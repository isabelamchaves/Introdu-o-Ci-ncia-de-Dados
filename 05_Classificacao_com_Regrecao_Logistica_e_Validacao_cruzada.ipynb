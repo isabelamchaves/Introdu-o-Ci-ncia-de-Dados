{
  "nbformat": 4,
  "nbformat_minor": 0,
  "metadata": {
    "colab": {
      "provenance": [],
      "include_colab_link": true
    },
    "kernelspec": {
      "name": "python3",
      "display_name": "Python 3"
    },
    "language_info": {
      "name": "python"
    }
  },
  "cells": [
    {
      "cell_type": "markdown",
      "metadata": {
        "id": "view-in-github",
        "colab_type": "text"
      },
      "source": [
        "<a href=\"https://colab.research.google.com/github/isabelamchaves/Introdu-o-Ci-ncia-de-Dados/blob/main/05_Classificacao_com_Regrecao_Logistica_e_Validacao_cruzada.ipynb\" target=\"_parent\"><img src=\"https://colab.research.google.com/assets/colab-badge.svg\" alt=\"Open In Colab\"/></a>"
      ]
    },
    {
      "cell_type": "markdown",
      "source": [
        "# Análise de Classificação Binária com Regressão Logística e Validação Cruzada\n",
        "\n",
        "\n"
      ],
      "metadata": {
        "id": "_t7lBzQbcyBe"
      }
    },
    {
      "cell_type": "markdown",
      "source": [
        "## 1. Introdução\n",
        "\n",
        "Neste notebook, vamos explorar a aplicação de um modelo de Regressão Logística para resolver um problema de classificação binária."
      ],
      "metadata": {
        "id": "TQppiCV1c71u"
      }
    },
    {
      "cell_type": "markdown",
      "source": [
        "## 2. Importando as Bibliotecas"
      ],
      "metadata": {
        "id": "OO7UKgRNdF6E"
      }
    },
    {
      "cell_type": "code",
      "source": [
        "# Importando as bibliotecas necessárias\n",
        "import numpy as np\n",
        "import pandas as pd\n",
        "from sklearn.model_selection import train_test_split, cross_val_score, StratifiedKFold\n",
        "from sklearn.linear_model import LogisticRegression\n",
        "from sklearn.metrics import confusion_matrix, roc_curve, auc\n",
        "import matplotlib.pyplot as plt\n",
        "import seaborn as sns"
      ],
      "metadata": {
        "id": "XZNpjR5bc-te"
      },
      "execution_count": null,
      "outputs": []
    },
    {
      "cell_type": "markdown",
      "source": [
        "## 3. Criando um conjunto de dados sintético\n",
        "\n"
      ],
      "metadata": {
        "id": "QPBGMbffdUH6"
      }
    },
    {
      "cell_type": "code",
      "source": [
        "# Criando um conjunto de dados sintético\n",
        "from sklearn.datasets import make_classification\n",
        "\n",
        "# Gerando o dataset\n",
        "X, y = make_classification(n_samples=1000, n_features=10, n_informative=2, n_redundant=2,\n",
        "                           n_classes=2, random_state=42)\n",
        "\n",
        "# Convertendo para DataFrame\n",
        "df = pd.DataFrame(X, columns=[f'Feature_{i}' for i in range(X.shape[1])])\n",
        "df['Target'] = y\n",
        "\n",
        "# Visualizar as primeiras linhas do dataset\n",
        "df.head()"
      ],
      "metadata": {
        "id": "JUGb7mHqdYfL",
        "colab": {
          "base_uri": "https://localhost:8080/",
          "height": 206
        },
        "outputId": "fff00b34-9eaf-49d3-c775-db9d7658c86a"
      },
      "execution_count": null,
      "outputs": [
        {
          "output_type": "execute_result",
          "data": {
            "text/plain": [
              "   Feature_0  Feature_1  Feature_2  Feature_3  Feature_4  Feature_5  \\\n",
              "0   0.964799  -0.066449   0.986768  -0.358079   0.997266   1.181890   \n",
              "1  -0.916511  -0.566395  -1.008614   0.831617  -1.176962   1.820544   \n",
              "2  -0.109484  -0.432774  -0.457649   0.793818  -0.268646  -1.836360   \n",
              "3   1.750412   2.023606   1.688159   0.006800  -1.607661   0.184741   \n",
              "4  -0.224726  -0.711303  -0.220778   0.117124   1.536061   0.597538   \n",
              "\n",
              "   Feature_6  Feature_7  Feature_8  Feature_9  Target  \n",
              "0  -1.615679  -1.210161  -0.628077   1.227274       0  \n",
              "1   1.752375  -0.984534   0.363896   0.209470       1  \n",
              "2   1.239086  -0.246383  -1.058145  -0.297376       1  \n",
              "3  -2.619427  -0.357445  -1.473127  -0.190039       0  \n",
              "4   0.348645  -0.939156   0.175915   0.236224       1  "
            ],
            "text/html": [
              "\n",
              "  <div id=\"df-ac42fc1f-dbd0-49f7-8cb5-e17842aa979c\" class=\"colab-df-container\">\n",
              "    <div>\n",
              "<style scoped>\n",
              "    .dataframe tbody tr th:only-of-type {\n",
              "        vertical-align: middle;\n",
              "    }\n",
              "\n",
              "    .dataframe tbody tr th {\n",
              "        vertical-align: top;\n",
              "    }\n",
              "\n",
              "    .dataframe thead th {\n",
              "        text-align: right;\n",
              "    }\n",
              "</style>\n",
              "<table border=\"1\" class=\"dataframe\">\n",
              "  <thead>\n",
              "    <tr style=\"text-align: right;\">\n",
              "      <th></th>\n",
              "      <th>Feature_0</th>\n",
              "      <th>Feature_1</th>\n",
              "      <th>Feature_2</th>\n",
              "      <th>Feature_3</th>\n",
              "      <th>Feature_4</th>\n",
              "      <th>Feature_5</th>\n",
              "      <th>Feature_6</th>\n",
              "      <th>Feature_7</th>\n",
              "      <th>Feature_8</th>\n",
              "      <th>Feature_9</th>\n",
              "      <th>Target</th>\n",
              "    </tr>\n",
              "  </thead>\n",
              "  <tbody>\n",
              "    <tr>\n",
              "      <th>0</th>\n",
              "      <td>0.964799</td>\n",
              "      <td>-0.066449</td>\n",
              "      <td>0.986768</td>\n",
              "      <td>-0.358079</td>\n",
              "      <td>0.997266</td>\n",
              "      <td>1.181890</td>\n",
              "      <td>-1.615679</td>\n",
              "      <td>-1.210161</td>\n",
              "      <td>-0.628077</td>\n",
              "      <td>1.227274</td>\n",
              "      <td>0</td>\n",
              "    </tr>\n",
              "    <tr>\n",
              "      <th>1</th>\n",
              "      <td>-0.916511</td>\n",
              "      <td>-0.566395</td>\n",
              "      <td>-1.008614</td>\n",
              "      <td>0.831617</td>\n",
              "      <td>-1.176962</td>\n",
              "      <td>1.820544</td>\n",
              "      <td>1.752375</td>\n",
              "      <td>-0.984534</td>\n",
              "      <td>0.363896</td>\n",
              "      <td>0.209470</td>\n",
              "      <td>1</td>\n",
              "    </tr>\n",
              "    <tr>\n",
              "      <th>2</th>\n",
              "      <td>-0.109484</td>\n",
              "      <td>-0.432774</td>\n",
              "      <td>-0.457649</td>\n",
              "      <td>0.793818</td>\n",
              "      <td>-0.268646</td>\n",
              "      <td>-1.836360</td>\n",
              "      <td>1.239086</td>\n",
              "      <td>-0.246383</td>\n",
              "      <td>-1.058145</td>\n",
              "      <td>-0.297376</td>\n",
              "      <td>1</td>\n",
              "    </tr>\n",
              "    <tr>\n",
              "      <th>3</th>\n",
              "      <td>1.750412</td>\n",
              "      <td>2.023606</td>\n",
              "      <td>1.688159</td>\n",
              "      <td>0.006800</td>\n",
              "      <td>-1.607661</td>\n",
              "      <td>0.184741</td>\n",
              "      <td>-2.619427</td>\n",
              "      <td>-0.357445</td>\n",
              "      <td>-1.473127</td>\n",
              "      <td>-0.190039</td>\n",
              "      <td>0</td>\n",
              "    </tr>\n",
              "    <tr>\n",
              "      <th>4</th>\n",
              "      <td>-0.224726</td>\n",
              "      <td>-0.711303</td>\n",
              "      <td>-0.220778</td>\n",
              "      <td>0.117124</td>\n",
              "      <td>1.536061</td>\n",
              "      <td>0.597538</td>\n",
              "      <td>0.348645</td>\n",
              "      <td>-0.939156</td>\n",
              "      <td>0.175915</td>\n",
              "      <td>0.236224</td>\n",
              "      <td>1</td>\n",
              "    </tr>\n",
              "  </tbody>\n",
              "</table>\n",
              "</div>\n",
              "    <div class=\"colab-df-buttons\">\n",
              "\n",
              "  <div class=\"colab-df-container\">\n",
              "    <button class=\"colab-df-convert\" onclick=\"convertToInteractive('df-ac42fc1f-dbd0-49f7-8cb5-e17842aa979c')\"\n",
              "            title=\"Convert this dataframe to an interactive table.\"\n",
              "            style=\"display:none;\">\n",
              "\n",
              "  <svg xmlns=\"http://www.w3.org/2000/svg\" height=\"24px\" viewBox=\"0 -960 960 960\">\n",
              "    <path d=\"M120-120v-720h720v720H120Zm60-500h600v-160H180v160Zm220 220h160v-160H400v160Zm0 220h160v-160H400v160ZM180-400h160v-160H180v160Zm440 0h160v-160H620v160ZM180-180h160v-160H180v160Zm440 0h160v-160H620v160Z\"/>\n",
              "  </svg>\n",
              "    </button>\n",
              "\n",
              "  <style>\n",
              "    .colab-df-container {\n",
              "      display:flex;\n",
              "      gap: 12px;\n",
              "    }\n",
              "\n",
              "    .colab-df-convert {\n",
              "      background-color: #E8F0FE;\n",
              "      border: none;\n",
              "      border-radius: 50%;\n",
              "      cursor: pointer;\n",
              "      display: none;\n",
              "      fill: #1967D2;\n",
              "      height: 32px;\n",
              "      padding: 0 0 0 0;\n",
              "      width: 32px;\n",
              "    }\n",
              "\n",
              "    .colab-df-convert:hover {\n",
              "      background-color: #E2EBFA;\n",
              "      box-shadow: 0px 1px 2px rgba(60, 64, 67, 0.3), 0px 1px 3px 1px rgba(60, 64, 67, 0.15);\n",
              "      fill: #174EA6;\n",
              "    }\n",
              "\n",
              "    .colab-df-buttons div {\n",
              "      margin-bottom: 4px;\n",
              "    }\n",
              "\n",
              "    [theme=dark] .colab-df-convert {\n",
              "      background-color: #3B4455;\n",
              "      fill: #D2E3FC;\n",
              "    }\n",
              "\n",
              "    [theme=dark] .colab-df-convert:hover {\n",
              "      background-color: #434B5C;\n",
              "      box-shadow: 0px 1px 3px 1px rgba(0, 0, 0, 0.15);\n",
              "      filter: drop-shadow(0px 1px 2px rgba(0, 0, 0, 0.3));\n",
              "      fill: #FFFFFF;\n",
              "    }\n",
              "  </style>\n",
              "\n",
              "    <script>\n",
              "      const buttonEl =\n",
              "        document.querySelector('#df-ac42fc1f-dbd0-49f7-8cb5-e17842aa979c button.colab-df-convert');\n",
              "      buttonEl.style.display =\n",
              "        google.colab.kernel.accessAllowed ? 'block' : 'none';\n",
              "\n",
              "      async function convertToInteractive(key) {\n",
              "        const element = document.querySelector('#df-ac42fc1f-dbd0-49f7-8cb5-e17842aa979c');\n",
              "        const dataTable =\n",
              "          await google.colab.kernel.invokeFunction('convertToInteractive',\n",
              "                                                    [key], {});\n",
              "        if (!dataTable) return;\n",
              "\n",
              "        const docLinkHtml = 'Like what you see? Visit the ' +\n",
              "          '<a target=\"_blank\" href=https://colab.research.google.com/notebooks/data_table.ipynb>data table notebook</a>'\n",
              "          + ' to learn more about interactive tables.';\n",
              "        element.innerHTML = '';\n",
              "        dataTable['output_type'] = 'display_data';\n",
              "        await google.colab.output.renderOutput(dataTable, element);\n",
              "        const docLink = document.createElement('div');\n",
              "        docLink.innerHTML = docLinkHtml;\n",
              "        element.appendChild(docLink);\n",
              "      }\n",
              "    </script>\n",
              "  </div>\n",
              "\n",
              "\n",
              "<div id=\"df-666d1440-0e7e-4f15-a243-27d4ed295936\">\n",
              "  <button class=\"colab-df-quickchart\" onclick=\"quickchart('df-666d1440-0e7e-4f15-a243-27d4ed295936')\"\n",
              "            title=\"Suggest charts\"\n",
              "            style=\"display:none;\">\n",
              "\n",
              "<svg xmlns=\"http://www.w3.org/2000/svg\" height=\"24px\"viewBox=\"0 0 24 24\"\n",
              "     width=\"24px\">\n",
              "    <g>\n",
              "        <path d=\"M19 3H5c-1.1 0-2 .9-2 2v14c0 1.1.9 2 2 2h14c1.1 0 2-.9 2-2V5c0-1.1-.9-2-2-2zM9 17H7v-7h2v7zm4 0h-2V7h2v10zm4 0h-2v-4h2v4z\"/>\n",
              "    </g>\n",
              "</svg>\n",
              "  </button>\n",
              "\n",
              "<style>\n",
              "  .colab-df-quickchart {\n",
              "      --bg-color: #E8F0FE;\n",
              "      --fill-color: #1967D2;\n",
              "      --hover-bg-color: #E2EBFA;\n",
              "      --hover-fill-color: #174EA6;\n",
              "      --disabled-fill-color: #AAA;\n",
              "      --disabled-bg-color: #DDD;\n",
              "  }\n",
              "\n",
              "  [theme=dark] .colab-df-quickchart {\n",
              "      --bg-color: #3B4455;\n",
              "      --fill-color: #D2E3FC;\n",
              "      --hover-bg-color: #434B5C;\n",
              "      --hover-fill-color: #FFFFFF;\n",
              "      --disabled-bg-color: #3B4455;\n",
              "      --disabled-fill-color: #666;\n",
              "  }\n",
              "\n",
              "  .colab-df-quickchart {\n",
              "    background-color: var(--bg-color);\n",
              "    border: none;\n",
              "    border-radius: 50%;\n",
              "    cursor: pointer;\n",
              "    display: none;\n",
              "    fill: var(--fill-color);\n",
              "    height: 32px;\n",
              "    padding: 0;\n",
              "    width: 32px;\n",
              "  }\n",
              "\n",
              "  .colab-df-quickchart:hover {\n",
              "    background-color: var(--hover-bg-color);\n",
              "    box-shadow: 0 1px 2px rgba(60, 64, 67, 0.3), 0 1px 3px 1px rgba(60, 64, 67, 0.15);\n",
              "    fill: var(--button-hover-fill-color);\n",
              "  }\n",
              "\n",
              "  .colab-df-quickchart-complete:disabled,\n",
              "  .colab-df-quickchart-complete:disabled:hover {\n",
              "    background-color: var(--disabled-bg-color);\n",
              "    fill: var(--disabled-fill-color);\n",
              "    box-shadow: none;\n",
              "  }\n",
              "\n",
              "  .colab-df-spinner {\n",
              "    border: 2px solid var(--fill-color);\n",
              "    border-color: transparent;\n",
              "    border-bottom-color: var(--fill-color);\n",
              "    animation:\n",
              "      spin 1s steps(1) infinite;\n",
              "  }\n",
              "\n",
              "  @keyframes spin {\n",
              "    0% {\n",
              "      border-color: transparent;\n",
              "      border-bottom-color: var(--fill-color);\n",
              "      border-left-color: var(--fill-color);\n",
              "    }\n",
              "    20% {\n",
              "      border-color: transparent;\n",
              "      border-left-color: var(--fill-color);\n",
              "      border-top-color: var(--fill-color);\n",
              "    }\n",
              "    30% {\n",
              "      border-color: transparent;\n",
              "      border-left-color: var(--fill-color);\n",
              "      border-top-color: var(--fill-color);\n",
              "      border-right-color: var(--fill-color);\n",
              "    }\n",
              "    40% {\n",
              "      border-color: transparent;\n",
              "      border-right-color: var(--fill-color);\n",
              "      border-top-color: var(--fill-color);\n",
              "    }\n",
              "    60% {\n",
              "      border-color: transparent;\n",
              "      border-right-color: var(--fill-color);\n",
              "    }\n",
              "    80% {\n",
              "      border-color: transparent;\n",
              "      border-right-color: var(--fill-color);\n",
              "      border-bottom-color: var(--fill-color);\n",
              "    }\n",
              "    90% {\n",
              "      border-color: transparent;\n",
              "      border-bottom-color: var(--fill-color);\n",
              "    }\n",
              "  }\n",
              "</style>\n",
              "\n",
              "  <script>\n",
              "    async function quickchart(key) {\n",
              "      const quickchartButtonEl =\n",
              "        document.querySelector('#' + key + ' button');\n",
              "      quickchartButtonEl.disabled = true;  // To prevent multiple clicks.\n",
              "      quickchartButtonEl.classList.add('colab-df-spinner');\n",
              "      try {\n",
              "        const charts = await google.colab.kernel.invokeFunction(\n",
              "            'suggestCharts', [key], {});\n",
              "      } catch (error) {\n",
              "        console.error('Error during call to suggestCharts:', error);\n",
              "      }\n",
              "      quickchartButtonEl.classList.remove('colab-df-spinner');\n",
              "      quickchartButtonEl.classList.add('colab-df-quickchart-complete');\n",
              "    }\n",
              "    (() => {\n",
              "      let quickchartButtonEl =\n",
              "        document.querySelector('#df-666d1440-0e7e-4f15-a243-27d4ed295936 button');\n",
              "      quickchartButtonEl.style.display =\n",
              "        google.colab.kernel.accessAllowed ? 'block' : 'none';\n",
              "    })();\n",
              "  </script>\n",
              "</div>\n",
              "\n",
              "    </div>\n",
              "  </div>\n"
            ],
            "application/vnd.google.colaboratory.intrinsic+json": {
              "type": "dataframe",
              "variable_name": "df",
              "summary": "{\n  \"name\": \"df\",\n  \"rows\": 1000,\n  \"fields\": [\n    {\n      \"column\": \"Feature_0\",\n      \"properties\": {\n        \"dtype\": \"number\",\n        \"std\": 0.8589691296851231,\n        \"min\": -3.2812362864214313,\n        \"max\": 2.872178439121286,\n        \"num_unique_values\": 1000,\n        \"samples\": [\n          0.7403059575514539,\n          -1.4957781907675487,\n          -0.14407862581028827\n        ],\n        \"semantic_type\": \"\",\n        \"description\": \"\"\n      }\n    },\n    {\n      \"column\": \"Feature_1\",\n      \"properties\": {\n        \"dtype\": \"number\",\n        \"std\": 1.0013378719924875,\n        \"min\": -3.2210163559857135,\n        \"max\": 3.0982994340712575,\n        \"num_unique_values\": 1000,\n        \"samples\": [\n          0.42548993324023027,\n          0.3813528345802849,\n          -0.009288561567815747\n        ],\n        \"semantic_type\": \"\",\n        \"description\": \"\"\n      }\n    },\n    {\n      \"column\": \"Feature_2\",\n      \"properties\": {\n        \"dtype\": \"number\",\n        \"std\": 0.8181017845027022,\n        \"min\": -2.7871074438721712,\n        \"max\": 2.8179596586719566,\n        \"num_unique_values\": 1000,\n        \"samples\": [\n          0.6039123963048258,\n          -1.276334295750483,\n          0.023661785507606285\n        ],\n        \"semantic_type\": \"\",\n        \"description\": \"\"\n      }\n    },\n    {\n      \"column\": \"Feature_3\",\n      \"properties\": {\n        \"dtype\": \"number\",\n        \"std\": 0.9945975963485194,\n        \"min\": -2.9911359709007233,\n        \"max\": 3.109918556005361,\n        \"num_unique_values\": 1000,\n        \"samples\": [\n          1.197246923645228,\n          1.3655264625262657,\n          0.30698107268623775\n        ],\n        \"semantic_type\": \"\",\n        \"description\": \"\"\n      }\n    },\n    {\n      \"column\": \"Feature_4\",\n      \"properties\": {\n        \"dtype\": \"number\",\n        \"std\": 1.037675475438662,\n        \"min\": -3.007632339693757,\n        \"max\": 3.152056734512085,\n        \"num_unique_values\": 1000,\n        \"samples\": [\n          1.1590740649558977,\n          1.388664520102482,\n          -0.17537845589869072\n        ],\n        \"semantic_type\": \"\",\n        \"description\": \"\"\n      }\n    },\n    {\n      \"column\": \"Feature_5\",\n      \"properties\": {\n        \"dtype\": \"number\",\n        \"std\": 0.986939120703624,\n        \"min\": -2.832155598110569,\n        \"max\": 3.1176811292080475,\n        \"num_unique_values\": 1000,\n        \"samples\": [\n          -0.336254738681072,\n          0.14237791251046628,\n          0.49150564724678364\n        ],\n        \"semantic_type\": \"\",\n        \"description\": \"\"\n      }\n    },\n    {\n      \"column\": \"Feature_6\",\n      \"properties\": {\n        \"dtype\": \"number\",\n        \"std\": 1.4039563207265036,\n        \"min\": -4.543441462057407,\n        \"max\": 4.020261576429226,\n        \"num_unique_values\": 1000,\n        \"samples\": [\n          -0.7716837582725288,\n          1.7306297203043093,\n          -0.2810489524479556\n        ],\n        \"semantic_type\": \"\",\n        \"description\": \"\"\n      }\n    },\n    {\n      \"column\": \"Feature_7\",\n      \"properties\": {\n        \"dtype\": \"number\",\n        \"std\": 1.0489871814177043,\n        \"min\": -3.688365291428444,\n        \"max\": 3.9262377064363267,\n        \"num_unique_values\": 1000,\n        \"samples\": [\n          -0.7094410024275466,\n          0.5740419308840301,\n          -0.3428788615575641\n        ],\n        \"semantic_type\": \"\",\n        \"description\": \"\"\n      }\n    },\n    {\n      \"column\": \"Feature_8\",\n      \"properties\": {\n        \"dtype\": \"number\",\n        \"std\": 1.322137151886956,\n        \"min\": -3.836929211678154,\n        \"max\": 3.994644010615292,\n        \"num_unique_values\": 1000,\n        \"samples\": [\n          -0.9826495673138833,\n          1.8020119332839073,\n          0.6525723778990105\n        ],\n        \"semantic_type\": \"\",\n        \"description\": \"\"\n      }\n    },\n    {\n      \"column\": \"Feature_9\",\n      \"properties\": {\n        \"dtype\": \"number\",\n        \"std\": 1.0025312120989163,\n        \"min\": -3.0195121558208253,\n        \"max\": 3.2430929695947333,\n        \"num_unique_values\": 1000,\n        \"samples\": [\n          -1.371673697230466,\n          -0.6301428301423468,\n          1.813407698515423\n        ],\n        \"semantic_type\": \"\",\n        \"description\": \"\"\n      }\n    },\n    {\n      \"column\": \"Target\",\n      \"properties\": {\n        \"dtype\": \"number\",\n        \"std\": 0,\n        \"min\": 0,\n        \"max\": 1,\n        \"num_unique_values\": 2,\n        \"samples\": [\n          1,\n          0\n        ],\n        \"semantic_type\": \"\",\n        \"description\": \"\"\n      }\n    }\n  ]\n}"
            }
          },
          "metadata": {},
          "execution_count": 38
        }
      ]
    },
    {
      "cell_type": "markdown",
      "source": [
        "## 4. Dividindo o conjunto de dados em treino e teste"
      ],
      "metadata": {
        "id": "ri_ha2VfdfjI"
      }
    },
    {
      "cell_type": "code",
      "source": [
        "# Dividindo o dataset em treino e teste\n",
        "X_train, X_test, y_train, y_test = train_test_split(X, y, test_size=0.3, random_state=42)\n",
        "\n",
        "# Verificando as dimensões dos conjuntos de treino e teste\n",
        "print(f'Tamanho do conjunto de treino: {X_train.shape[0]} amostras')\n",
        "print(f'Tamanho do conjunto de teste: {X_test.shape[0]} amostras')"
      ],
      "metadata": {
        "id": "rBAb5v7AdkWn",
        "colab": {
          "base_uri": "https://localhost:8080/"
        },
        "outputId": "ba18e55e-d19c-4090-d983-a79f5e0ff954"
      },
      "execution_count": null,
      "outputs": [
        {
          "output_type": "stream",
          "name": "stdout",
          "text": [
            "Tamanho do conjunto de treino: 700 amostras\n",
            "Tamanho do conjunto de teste: 300 amostras\n"
          ]
        }
      ]
    },
    {
      "cell_type": "markdown",
      "source": [
        "## 5. Validação cruzada e treinamento do modelo\n",
        "\n",
        "\n"
      ],
      "metadata": {
        "id": "HfvM3QzPdtrY"
      }
    },
    {
      "cell_type": "code",
      "source": [
        "# Criando o modelo de Regressão Logística\n",
        "model = LogisticRegression()\n",
        "\n",
        "# Definindo a estratégia de validação cruzada\n",
        "cv = StratifiedKFold(n_splits=5, shuffle=True, random_state=42)\n",
        "\n",
        "# Realizando a validação cruzada\n",
        "cv_scores = cross_val_score(model, X_train, y_train, cv=cv, scoring='accuracy')\n",
        "\n",
        "# Treinando o modelo com todo o conjunto de treino\n",
        "model.fit(X_train, y_train)\n",
        "\n",
        "# Avaliando o modelo no conjunto de teste\n",
        "y_pred = model.predict(X_test)\n",
        "\n",
        "# Exibindo os resultados da validação cruzada\n",
        "print(f'Pontuações da validação cruzada: {cv_scores}')\n",
        "print(f'Média das pontuações: {np.mean(cv_scores):.4f}')"
      ],
      "metadata": {
        "id": "FhBC9VROG4SV",
        "colab": {
          "base_uri": "https://localhost:8080/"
        },
        "outputId": "67343fc7-da77-4743-9113-dcc094ac241f"
      },
      "execution_count": null,
      "outputs": [
        {
          "output_type": "stream",
          "name": "stdout",
          "text": [
            "Pontuações da validação cruzada: [0.92 0.89 0.9  0.8  0.85 0.88 0.83]\n",
            "Média das pontuações: 0.8671\n"
          ]
        }
      ]
    },
    {
      "cell_type": "markdown",
      "source": [
        "## 6. Aplicando as métricas de avaliação"
      ],
      "metadata": {
        "id": "rfaVy7XOd2sf"
      }
    },
    {
      "cell_type": "code",
      "source": [
        "# Matriz de Confusão\n",
        "cm = confusion_matrix(y_test, y_pred)\n",
        "\n",
        "# Visualizando a Matriz de Confusão\n",
        "plt.figure(figsize=(6,6))\n",
        "sns.heatmap(cm, annot=True, fmt=\"d\", cmap=\"Blues\")\n",
        "plt.title('Matriz de Confusão')\n",
        "plt.xlabel('Predito')\n",
        "plt.ylabel('Real')\n",
        "plt.show()\n",
        "\n",
        "# Curva ROC\n",
        "y_prob = model.predict_proba(X_test)[:, 1]\n",
        "fpr, tpr, _ = roc_curve(y_test, y_prob)\n",
        "roc_auc = auc(fpr, tpr)\n",
        "\n",
        "# Plotando a Curva ROC\n",
        "plt.figure(figsize=(8,6))\n",
        "plt.plot(fpr, tpr, label=f'AUC = {roc_auc:.2f}')\n",
        "plt.plot([0, 1], [0, 1], 'r--')\n",
        "plt.xlim([0.0, 1.0])\n",
        "plt.ylim([0.0, 1.0])\n",
        "plt.xlabel('Falsos Positivos')\n",
        "plt.ylabel('Verdadeiros Positivos')\n",
        "plt.title('Curva ROC')\n",
        "plt.legend(loc=\"lower right\")\n",
        "plt.show()"
      ],
      "metadata": {
        "id": "DK99WHgxFXHW",
        "colab": {
          "base_uri": "https://localhost:8080/",
          "height": 1000
        },
        "outputId": "a418e762-4497-49da-f123-c9a4b3911df4"
      },
      "execution_count": null,
      "outputs": [
        {
          "output_type": "display_data",
          "data": {
            "text/plain": [
              "<Figure size 600x600 with 2 Axes>"
            ],
            "image/png": "[encoded data removed]"
          },
          "metadata": {}
        },
        {
          "output_type": "display_data",
          "data": {
            "text/plain": [
              "<Figure size 800x600 with 1 Axes>"
            ],
            "image/png": "[encoded data removed]"
          },
          "metadata": {}
        }
      ]
    },
    {
      "cell_type": "markdown",
      "source": [
        "## 7. Comentando os resultados\n",
        "\n",
        "O modelo possui uma boa acuárcia, pois, classifica corretamente os resultados, obtendo um AUC excelentes, pois estão acima de 0.9.\n",
        "\n",
        "Ao aumentar o número de dados é possível obter um AUC melhor, e isso é esperado, uma vez que ao trabalharmos com classificação, quanto maior é o nosso número de dados, melhor será o resultado obtido."
      ],
      "metadata": {
        "id": "gdMFSEy0eE7W"
      }
    },
    {
      "cell_type": "markdown",
      "source": [
        "## 8. Conclusão\n",
        "\n",
        "Tentamos resolver um problema de classificação, ao classificar os dados binariamente. Para isso, criamos um conjunto de dados falso e treinamos um modelo de Regressão Logística.\n",
        "\n",
        "Para avaliar o nosso modelo, fizemos uma verificação da matriz de confusão e da Curva ROC. O modelo apresentou um ótimo desempenho sendo capaz de separar as classes de uma maneira eficaz."
      ],
      "metadata": {
        "id": "LlOhtm9m1BT2"
      }
    }
  ]
}